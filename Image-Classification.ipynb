{
  "nbformat": 4,
  "nbformat_minor": 0,
  "metadata": {
    "colab": {
      "name": "Untitled0.ipynb",
      "provenance": [],
      "mount_file_id": "11IOi20MiwQmHTu7FjOTMGvpl-SpDNnKJ",
      "authorship_tag": "ABX9TyOMNB3BS7iYRgyjr5DT9SC5",
      "include_colab_link": true
    },
    "kernelspec": {
      "name": "python3",
      "display_name": "Python 3"
    }
  },
  "cells": [
    {
      "cell_type": "markdown",
      "metadata": {
        "id": "view-in-github",
        "colab_type": "text"
      },
      "source": [
        "<a href=\"https://colab.research.google.com/github/vishwastanwar1402/Mini-Project/blob/main/Image-Classification.ipynb\" target=\"_parent\"><img src=\"https://colab.research.google.com/assets/colab-badge.svg\" alt=\"Open In Colab\"/></a>"
      ]
    },
    {
      "cell_type": "code",
      "metadata": {
        "colab": {
          "base_uri": "https://localhost:8080/"
        },
        "id": "iaDBIeKrqqlX",
        "outputId": "a853edb5-ec3c-41e0-ff6e-17675dfdeae6"
      },
      "source": [
        "!pip\r\n"
      ],
      "execution_count": 55,
      "outputs": [
        {
          "output_type": "stream",
          "text": [
            "\n",
            "Usage:   \n",
            "  pip3 <command> [options]\n",
            "\n",
            "Commands:\n",
            "  install                     Install packages.\n",
            "  download                    Download packages.\n",
            "  uninstall                   Uninstall packages.\n",
            "  freeze                      Output installed packages in requirements format.\n",
            "  list                        List installed packages.\n",
            "  show                        Show information about installed packages.\n",
            "  check                       Verify installed packages have compatible dependencies.\n",
            "  config                      Manage local and global configuration.\n",
            "  search                      Search PyPI for packages.\n",
            "  wheel                       Build wheels from your requirements.\n",
            "  hash                        Compute hashes of package archives.\n",
            "  completion                  A helper command used for command completion.\n",
            "  debug                       Show information useful for debugging.\n",
            "  help                        Show help for commands.\n",
            "\n",
            "General Options:\n",
            "  -h, --help\n",
            "  Show help.\n",
            "  --isolated\n",
            "  Run pip in\n",
            "  an isolated\n",
            "  mode,\n",
            "  ignoring\n",
            "  environment\n",
            "  variables\n",
            "  and user co\n",
            "  nfiguration\n",
            "  .\n",
            "  -v, --verbose\n",
            "  Give more\n",
            "  output.\n",
            "  Option is\n",
            "  additive,\n",
            "  and can be\n",
            "  used up to\n",
            "  3 times.\n",
            "  -V, --version\n",
            "  Show\n",
            "  version and\n",
            "  exit.\n",
            "  -q, --quiet\n",
            "  Give less\n",
            "  output.\n",
            "  Option is\n",
            "  additive,\n",
            "  and can be\n",
            "  used up to\n",
            "  3 times (co\n",
            "  rresponding\n",
            "  to WARNING,\n",
            "  ERROR, and\n",
            "  CRITICAL\n",
            "  logging\n",
            "  levels).\n",
            "  --log <path>\n",
            "  Path to a\n",
            "  verbose\n",
            "  appending\n",
            "  log.\n",
            "  --proxy <proxy>\n",
            "  Specify a\n",
            "  proxy in\n",
            "  the form [u\n",
            "  ser:passwd@\n",
            "  ]proxy.serv\n",
            "  er:port.\n",
            "  --retries <retries>\n",
            "  Maximum\n",
            "  number of\n",
            "  retries\n",
            "  each\n",
            "  connection\n",
            "  should\n",
            "  attempt\n",
            "  (default 5\n",
            "  times).\n",
            "  --timeout <sec>\n",
            "  Set the\n",
            "  socket\n",
            "  timeout\n",
            "  (default 15\n",
            "  seconds).\n",
            "  --exists-action <action>\n",
            "  Default\n",
            "  action when\n",
            "  a path\n",
            "  already\n",
            "  exists:\n",
            "  (s)witch,\n",
            "  (i)gnore,\n",
            "  (w)ipe,\n",
            "  (b)ackup,\n",
            "  (a)bort.\n",
            "  --trusted-host <hostname>\n",
            "  Mark this\n",
            "  host or\n",
            "  host:port\n",
            "  pair as\n",
            "  trusted,\n",
            "  even though\n",
            "  it does not\n",
            "  have valid\n",
            "  or any\n",
            "  HTTPS.\n",
            "  --cert <path>\n",
            "  Path to\n",
            "  alternate\n",
            "  CA bundle.\n",
            "  --client-cert <path>\n",
            "  Path to SSL\n",
            "  client cert\n",
            "  ificate, a\n",
            "  single file\n",
            "  containing\n",
            "  the private\n",
            "  key and the\n",
            "  certificate\n",
            "  in PEM\n",
            "  format.\n",
            "  --cache-dir <dir>\n",
            "  Store the\n",
            "  cache data\n",
            "  in <dir>.\n",
            "  --no-cache-dir\n",
            "  Disable the\n",
            "  cache.\n",
            "  --disable-pip-version-check\n",
            "  Don't perio\n",
            "  dically\n",
            "  check PyPI\n",
            "  to\n",
            "  determine\n",
            "  whether a\n",
            "  new version\n",
            "  of pip is\n",
            "  available\n",
            "  for\n",
            "  download.\n",
            "  Implied\n",
            "  with --no-\n",
            "  index.\n",
            "  --no-color\n",
            "  Suppress\n",
            "  colored\n",
            "  output\n",
            "time: 431 ms (started: 2021-02-21 22:16:55 +00:00)\n"
          ],
          "name": "stdout"
        }
      ]
    },
    {
      "cell_type": "code",
      "metadata": {
        "colab": {
          "base_uri": "https://localhost:8080/"
        },
        "id": "XcBiktSUE1WR",
        "outputId": "52af8c95-65ae-48a1-fcc0-e8bc9fc7f3a5"
      },
      "source": [
        "!pip install ipython-autotime\r\n",
        "%load_ext autotime\r\n",
        "\r\n"
      ],
      "execution_count": 1,
      "outputs": [
        {
          "output_type": "stream",
          "text": [
            "Collecting ipython-autotime\n",
            "  Downloading https://files.pythonhosted.org/packages/b4/c9/b413a24f759641bc27ef98c144b590023c8038dfb8a3f09e713e9dff12c1/ipython_autotime-0.3.1-py2.py3-none-any.whl\n",
            "Requirement already satisfied: ipython in /usr/local/lib/python3.6/dist-packages (from ipython-autotime) (5.5.0)\n",
            "Requirement already satisfied: simplegeneric>0.8 in /usr/local/lib/python3.6/dist-packages (from ipython->ipython-autotime) (0.8.1)\n",
            "Requirement already satisfied: traitlets>=4.2 in /usr/local/lib/python3.6/dist-packages (from ipython->ipython-autotime) (4.3.3)\n",
            "Requirement already satisfied: decorator in /usr/local/lib/python3.6/dist-packages (from ipython->ipython-autotime) (4.4.2)\n",
            "Requirement already satisfied: pygments in /usr/local/lib/python3.6/dist-packages (from ipython->ipython-autotime) (2.6.1)\n",
            "Requirement already satisfied: setuptools>=18.5 in /usr/local/lib/python3.6/dist-packages (from ipython->ipython-autotime) (53.0.0)\n",
            "Requirement already satisfied: pickleshare in /usr/local/lib/python3.6/dist-packages (from ipython->ipython-autotime) (0.7.5)\n",
            "Requirement already satisfied: pexpect; sys_platform != \"win32\" in /usr/local/lib/python3.6/dist-packages (from ipython->ipython-autotime) (4.8.0)\n",
            "Requirement already satisfied: prompt-toolkit<2.0.0,>=1.0.4 in /usr/local/lib/python3.6/dist-packages (from ipython->ipython-autotime) (1.0.18)\n",
            "Requirement already satisfied: six in /usr/local/lib/python3.6/dist-packages (from traitlets>=4.2->ipython->ipython-autotime) (1.15.0)\n",
            "Requirement already satisfied: ipython-genutils in /usr/local/lib/python3.6/dist-packages (from traitlets>=4.2->ipython->ipython-autotime) (0.2.0)\n",
            "Requirement already satisfied: ptyprocess>=0.5 in /usr/local/lib/python3.6/dist-packages (from pexpect; sys_platform != \"win32\"->ipython->ipython-autotime) (0.7.0)\n",
            "Requirement already satisfied: wcwidth in /usr/local/lib/python3.6/dist-packages (from prompt-toolkit<2.0.0,>=1.0.4->ipython->ipython-autotime) (0.2.5)\n",
            "Installing collected packages: ipython-autotime\n",
            "Successfully installed ipython-autotime-0.3.1\n",
            "time: 2.16 ms (started: 2021-02-21 19:39:29 +00:00)\n"
          ],
          "name": "stdout"
        }
      ]
    },
    {
      "cell_type": "code",
      "metadata": {
        "colab": {
          "base_uri": "https://localhost:8080/"
        },
        "id": "zovGmi7PGrQF",
        "outputId": "e6998f6c-ec71-4e82-ca7a-3fbafaed0ead"
      },
      "source": [
        "!pip install bing-image-downloader"
      ],
      "execution_count": 2,
      "outputs": [
        {
          "output_type": "stream",
          "text": [
            "Collecting bing-image-downloader\n",
            "  Downloading https://files.pythonhosted.org/packages/0d/bf/537a61030b84ae4cd5022d5c7b014fd9bc3ce7c02358919153a6658a61d3/bing_image_downloader-1.0.4-py3-none-any.whl\n",
            "Installing collected packages: bing-image-downloader\n",
            "Successfully installed bing-image-downloader-1.0.4\n",
            "time: 2.93 s (started: 2021-02-21 19:40:06 +00:00)\n"
          ],
          "name": "stdout"
        }
      ]
    },
    {
      "cell_type": "code",
      "metadata": {
        "colab": {
          "base_uri": "https://localhost:8080/"
        },
        "id": "b_jj0zgzG08X",
        "outputId": "546c7d5e-9d38-49dc-b947-5abed0a5c83c"
      },
      "source": [
        "!mkdir images"
      ],
      "execution_count": 3,
      "outputs": [
        {
          "output_type": "stream",
          "text": [
            "time: 119 ms (started: 2021-02-21 19:40:46 +00:00)\n"
          ],
          "name": "stdout"
        }
      ]
    },
    {
      "cell_type": "code",
      "metadata": {
        "colab": {
          "base_uri": "https://localhost:8080/"
        },
        "id": "swouB1WZG9ng",
        "outputId": "a76da223-ddf7-4752-ac2a-32ebf62899b3"
      },
      "source": [
        "from bing_image_downloader import downloader\r\n",
        "downloader.download(\"sun\",limit=30,output_dir=\"images\",adult_filter_off=True)"
      ],
      "execution_count": 4,
      "outputs": [
        {
          "output_type": "stream",
          "text": [
            "\n",
            "\n",
            "[!!]Indexing page: 1\n",
            "\n",
            "[%] Indexed 31 Images on Page 1.\n",
            "\n",
            "===============================================\n",
            "\n",
            "[%] Downloading Image #1 from https://static.independent.co.uk/s3fs-public/thumbnails/image/2016/02/03/09/sun.jpg\n",
            "[%] File Downloaded !\n",
            "\n",
            "[%] Downloading Image #2 from http://www.nasa.gov/sites/default/files/thumbnails/image/oct_26_x2_304-171.jpg\n",
            "[%] File Downloaded !\n",
            "\n",
            "[%] Downloading Image #3 from https://i.ytimg.com/vi/UJTo1Hc8fAk/maxresdefault.jpg\n",
            "[%] File Downloaded !\n",
            "\n",
            "[%] Downloading Image #4 from https://kingofromania.files.wordpress.com/2012/10/happy-sun.gif\n",
            "[%] File Downloaded !\n",
            "\n",
            "[%] Downloading Image #5 from https://d.ibtimes.co.uk/en/full/1615785/solar-eclipse.gif\n",
            "[%] File Downloaded !\n",
            "\n",
            "[%] Downloading Image #6 from https://www.bing.com/th/id/OGC.9edf4414aea4a11e2af2c53632811524?pid=1.7&amp;rurl=https%3a%2f%2fd.ibtimes.co.uk%2fen%2ffull%2f1615785%2fsolar-eclipse.gif&amp;ehk=Guf%2bANKeETw3Ib4OPKZhzxrVj9y1P8AcfhIRX3gGc%2bc%3d\n",
            "[!] Issue getting: https://www.bing.com/th/id/OGC.9edf4414aea4a11e2af2c53632811524?pid=1.7&amp;rurl=https%3a%2f%2fd.ibtimes.co.uk%2fen%2ffull%2f1615785%2fsolar-eclipse.gif&amp;ehk=Guf%2bANKeETw3Ib4OPKZhzxrVj9y1P8AcfhIRX3gGc%2bc%3d\n",
            "[!] Error:: HTTP Error 404: Not Found\n",
            "[%] Downloading Image #6 from https://i.ytimg.com/vi/U_FYDe02_eU/maxresdefault.jpg\n",
            "[%] File Downloaded !\n",
            "\n",
            "[%] Downloading Image #7 from https://i.ytimg.com/vi/Ap5QRHG5p2o/maxresdefault.jpg\n",
            "[%] File Downloaded !\n",
            "\n",
            "[%] Downloading Image #8 from https://lindavernon.files.wordpress.com/2013/06/the-sun-having-fun.jpg\n",
            "[%] File Downloaded !\n",
            "\n",
            "[%] Downloading Image #9 from https://i.ytimg.com/vi/OPKwzNPtQQg/maxresdefault.jpg\n",
            "[%] File Downloaded !\n",
            "\n",
            "[%] Downloading Image #10 from https://i.ytimg.com/vi/3FOG95o4bbU/maxresdefault.jpg\n",
            "[%] File Downloaded !\n",
            "\n",
            "[%] Downloading Image #11 from https://upload.wikimedia.org/wikipedia/commons/thumb/7/74/Activity_Continues_On_the_Sun.jpg/1200px-Activity_Continues_On_the_Sun.jpg\n",
            "[%] File Downloaded !\n",
            "\n",
            "[%] Downloading Image #12 from https://i.ytimg.com/vi/sRLeoEKWspc/maxresdefault.jpg\n",
            "[%] File Downloaded !\n",
            "\n",
            "[%] Downloading Image #13 from https://asd.gsfc.nasa.gov/blueshift/wp-content/uploads/2014/10/Halloween_Sun_2014.jpg\n",
            "[%] File Downloaded !\n",
            "\n",
            "[%] Downloading Image #14 from https://i.ytimg.com/vi/Yd5G4ld6ZoU/maxresdefault.jpg\n",
            "[%] File Downloaded !\n",
            "\n",
            "[%] Downloading Image #15 from https://i.ytimg.com/vi/e3cnubmJJZg/maxresdefault.jpg\n",
            "[%] File Downloaded !\n",
            "\n",
            "[%] Downloading Image #16 from http://www.politicspa.com/wp-content/uploads/2013/02/Happy-sun1.png\n",
            "[%] File Downloaded !\n",
            "\n",
            "[%] Downloading Image #17 from http://media.merchantcircle.com/32488191/tropical fun sun logo no name_full.jpeg\n",
            "[!] Issue getting: http://media.merchantcircle.com/32488191/tropical fun sun logo no name_full.jpeg\n",
            "[!] Error:: URL can't contain control characters. '/32488191/tropical fun sun logo no name_full.jpeg' (found at least ' ')\n",
            "[%] Downloading Image #17 from https://i.ytimg.com/vi/RzGKAqEC2hg/maxresdefault.jpg\n",
            "[%] File Downloaded !\n",
            "\n",
            "[%] Downloading Image #18 from https://i.ytimg.com/vi/HFT7ATLQQx8/maxresdefault.jpg\n",
            "[%] File Downloaded !\n",
            "\n",
            "[%] Downloading Image #19 from https://i.ytimg.com/vi/koyCHgjm4gU/maxresdefault.jpg\n",
            "[%] File Downloaded !\n",
            "\n",
            "[%] Downloading Image #20 from https://i.ytimg.com/vi/C2FETG7tCF0/maxresdefault.jpg\n",
            "[%] File Downloaded !\n",
            "\n",
            "[%] Downloading Image #21 from https://i.ytimg.com/vi/fLsT-I7IDcE/maxresdefault.jpg\n",
            "[%] File Downloaded !\n",
            "\n",
            "[%] Downloading Image #22 from https://i.ytimg.com/vi/6tmbeLTHC_0/maxresdefault.jpg\n",
            "[%] File Downloaded !\n",
            "\n",
            "[%] Downloading Image #23 from https://i.ytimg.com/vi/VRCMKrNo7CM/maxresdefault.jpg\n",
            "[%] File Downloaded !\n",
            "\n",
            "[%] Downloading Image #24 from https://i.ytimg.com/vi/GvMbUxqGuOc/maxresdefault.jpg\n",
            "[%] File Downloaded !\n",
            "\n",
            "[%] Downloading Image #25 from http://kids.nationalgeographic.com/content/dam/kids/photos/articles/Space/Q-Z/sun.ngsversion.1418676735288.adapt.1900.1.jpg\n",
            "[%] File Downloaded !\n",
            "\n",
            "[%] Downloading Image #26 from https://static01.nyt.com/images/2018/07/06/science/06tb-sun-print/merlin_140815551_d7988295-210f-4d0e-8c62-b6117ecb5fd3-articleLarge.jpg?quality=75&amp;auto=webp&amp;disable=upscale\n",
            "[%] File Downloaded !\n",
            "\n",
            "[%] Downloading Image #27 from https://i.ytimg.com/vi/0GOPAxEBDro/maxresdefault.jpg\n",
            "[%] File Downloaded !\n",
            "\n",
            "[%] Downloading Image #28 from https://i.ytimg.com/vi/726Wzf_fF9A/maxresdefault.jpg\n",
            "[%] File Downloaded !\n",
            "\n",
            "[%] Downloading Image #29 from http://www.8planets.co.uk/wp-content/themes/8planets/images/sun_1_lg.jpg\n",
            "[%] File Downloaded !\n",
            "\n",
            "\n",
            "\n",
            "[!!]Indexing page: 2\n",
            "\n",
            "[%] Indexed 36 Images on Page 2.\n",
            "\n",
            "===============================================\n",
            "\n",
            "[%] Downloading Image #30 from https://static.independent.co.uk/s3fs-public/thumbnails/image/2016/02/03/09/sun.jpg\n",
            "[%] File Downloaded !\n",
            "\n",
            "\n",
            "\n",
            "[%] Done. Downloaded 30 images.\n",
            "\n",
            "===============================================\n",
            "\n",
            "time: 15 s (started: 2021-02-21 19:42:53 +00:00)\n"
          ],
          "name": "stdout"
        }
      ]
    },
    {
      "cell_type": "code",
      "metadata": {
        "colab": {
          "base_uri": "https://localhost:8080/"
        },
        "id": "f4OgpO6dH-Bf",
        "outputId": "4e12bfb7-4c57-465a-8079-2a8cf6c37249"
      },
      "source": [
        "!cd images\r\n"
      ],
      "execution_count": 5,
      "outputs": [
        {
          "output_type": "stream",
          "text": [
            "time: 123 ms (started: 2021-02-21 19:45:23 +00:00)\n"
          ],
          "name": "stdout"
        }
      ]
    },
    {
      "cell_type": "code",
      "metadata": {
        "colab": {
          "base_uri": "https://localhost:8080/"
        },
        "id": "xetgZG-EIBNf",
        "outputId": "45c1014e-bd80-4407-8b98-f4d1de29f117"
      },
      "source": [
        "!rm -f sun"
      ],
      "execution_count": 11,
      "outputs": [
        {
          "output_type": "stream",
          "text": [
            "time: 122 ms (started: 2021-02-21 19:51:01 +00:00)\n"
          ],
          "name": "stdout"
        }
      ]
    },
    {
      "cell_type": "code",
      "metadata": {
        "colab": {
          "base_uri": "https://localhost:8080/"
        },
        "id": "w8FKFvE8KQPy",
        "outputId": "533d1563-5359-4744-d10a-7428d1a63732"
      },
      "source": [
        "from bing_image_downloader import downloader\r\n",
        "downloader.download(\"rose\",limit=30,output_dir=\"images\",adult_filter_off=True)"
      ],
      "execution_count": 12,
      "outputs": [
        {
          "output_type": "stream",
          "text": [
            "\n",
            "\n",
            "[!!]Indexing page: 1\n",
            "\n",
            "[%] Indexed 30 Images on Page 1.\n",
            "\n",
            "===============================================\n",
            "\n",
            "[%] Downloading Image #1 from https://upload.wikimedia.org/wikipedia/commons/thumb/2/28/Rose_Kardinal_crop.jpg/1200px-Rose_Kardinal_crop.jpg\n",
            "[%] File Downloaded !\n",
            "\n",
            "[%] Downloading Image #2 from https://enablelc.org/wp-content/uploads/2017/01/BS-Yellow-rose.jpg\n",
            "[%] File Downloaded !\n",
            "\n",
            "[%] Downloading Image #3 from https://susanrushtondotnet.files.wordpress.com/2015/03/orange-rose.jpg\n",
            "[%] File Downloaded !\n",
            "\n",
            "[%] Downloading Image #4 from https://www.naturehills.com/media/catalog/product/cache/35c1080e597d6a74b42d0d88ced836c1/e/a/easy-elegance-paint-the-town-rose-800x800.jpg\n",
            "[%] File Downloaded !\n",
            "\n",
            "[%] Downloading Image #5 from https://www.cowellsgc.co.uk/files/images/webshop/rose-my-lovely-mum-keep-smiling-1546548287_l.jpg\n",
            "[%] File Downloaded !\n",
            "\n",
            "[%] Downloading Image #6 from http://www.theperfectrose.com/FS/STORE/104/2/Pink_Promise.jpg\n",
            "[%] File Downloaded !\n",
            "\n",
            "[%] Downloading Image #7 from https://www.florissa.com/wp-content/uploads/2016/05/Olivia-Rose-Austin-Ausmixture-A5lg.jpg\n",
            "[%] File Downloaded !\n",
            "\n",
            "[%] Downloading Image #8 from https://www.gardeningknowhow.com/wp-content/uploads/2015/03/osiria-rose.jpg\n",
            "[%] File Downloaded !\n",
            "\n",
            "[%] Downloading Image #9 from https://1.bp.blogspot.com/_sRrqxVuGxyY/S7hTdZ3BRnI/AAAAAAAAAd8/jYVkpXbNzlQ/s1600/normal-red-rose-blooming-enough-focused.JPG\n",
            "[%] File Downloaded !\n",
            "\n",
            "[%] Downloading Image #10 from https://www.trevorwhiteroses.co.uk/wp-content/uploads/2018/02/Simone-Trevor-White-Shrub-Rose.jpg\n",
            "[%] File Downloaded !\n",
            "\n",
            "[%] Downloading Image #11 from https://www.trevorwhiteroses.co.uk/wp-content/uploads/2018/02/ingrid-bergman-shrub-rose.jpg\n",
            "[%] File Downloaded !\n",
            "\n",
            "[%] Downloading Image #12 from https://www.wallpapergeeks.com/wp-content/uploads/2014/02/Hybrid-Tea-Rose-Wallpaper.jpg\n",
            "[%] File Downloaded !\n",
            "\n",
            "[%] Downloading Image #13 from https://allbeststop.com/wp-content/uploads/beautiful-rose-photo-download.jpg\n",
            "[%] File Downloaded !\n",
            "\n",
            "[%] Downloading Image #14 from https://www.cowellsgc.co.uk/files/images/webshop/rose-sheila-s-perfume-1545222825_l.jpg\n",
            "[%] File Downloaded !\n",
            "\n",
            "[%] Downloading Image #15 from https://www.lewisginter.org/wp-content/uploads/2014/11/Hybrid-Tea-Rose-Rosa-Olympiad-McGredy-Rosacae.jpg\n",
            "[%] File Downloaded !\n",
            "\n",
            "[%] Downloading Image #16 from http://wallpaperping.com/wp-content/uploads/2020/06/pexels-photo-736231.jpeg\n",
            "[%] File Downloaded !\n",
            "\n",
            "[%] Downloading Image #17 from https://www.theenglishgarden.co.uk/wp-content/uploads/2017/05/JaneAustenRose.jpg\n",
            "[%] File Downloaded !\n",
            "\n",
            "[%] Downloading Image #18 from https://weknowyourdreams.com/images/rose/rose-03.jpg\n",
            "[!] Issue getting: https://weknowyourdreams.com/images/rose/rose-03.jpg\n",
            "[!] Error:: <urlopen error [SSL: CERTIFICATE_VERIFY_FAILED] certificate verify failed (_ssl.c:852)>\n",
            "[%] Downloading Image #18 from http://3.bp.blogspot.com/--hHtwbmFlcM/UFAkGIQ58cI/AAAAAAAADEE/nK1iDZlZXFs/s1600/red+rose.jpg\n",
            "[%] File Downloaded !\n",
            "\n",
            "[%] Downloading Image #19 from http://3.bp.blogspot.com/-PTMcU3iDimQ/UFAkJx8jQOI/AAAAAAAADEk/67ZUjOWUIrU/s1600/rose+sybmolism.jpg\n",
            "[%] File Downloaded !\n",
            "\n",
            "[%] Downloading Image #20 from http://getwallpapers.com/wallpaper/full/6/6/b/964774-violet-rose-wallpaper-1080x1920-for-mac.jpg\n",
            "[%] File Downloaded !\n",
            "\n",
            "[%] Downloading Image #21 from https://1.bp.blogspot.com/--pjzPU70fUE/T-XCe1zWSkI/AAAAAAAAA5I/XchjJ4C7U7c/s1600/Charlotte+Roses+-+Stein+Your+Florist+Co..JPG\n",
            "[%] File Downloaded !\n",
            "\n",
            "[%] Downloading Image #22 from http://www.lovethispic.com/uploaded_images/54839-Succulent-Red-Rose.png\n",
            "[%] File Downloaded !\n",
            "\n",
            "[%] Downloading Image #23 from http://factorydirectcraft.com/pimages/20150227104956-032624/purple_passion_artificial_rose_bush_1.jpg\n",
            "[%] File Downloaded !\n",
            "\n",
            "[%] Downloading Image #24 from http://3.bp.blogspot.com/-sRSE2xF0CDU/T5oSKlTZNTI/AAAAAAAACXQ/FOUeoBj01j8/w1200-h630-p-k-no-nu/DSC06039.JPG\n",
            "[%] File Downloaded !\n",
            "\n",
            "[%] Downloading Image #25 from http://minnesotarosesociety.org/wp-content/uploads/2013/08/mr-lincoln.jpg\n",
            "[%] File Downloaded !\n",
            "\n",
            "[%] Downloading Image #26 from https://www.ftd.com/blog/content/uploads/2018/01/rose-color-meanings-hero.jpg\n",
            "[%] File Downloaded !\n",
            "\n",
            "[%] Downloading Image #27 from http://www.mooseyscountrygarden.com/rose-garden/roses-yellow-english.jpg\n",
            "[%] File Downloaded !\n",
            "\n",
            "[%] Downloading Image #28 from http://viola.bz/wp-content/uploads/2013/01/Bicolor-rose-Osiria.jpg\n",
            "[%] File Downloaded !\n",
            "\n",
            "[%] Downloading Image #29 from http://www.crgardencentre.com/sites/default/files/imagecache/product_full/veterans honor rose.jpg\n",
            "[!] Issue getting: http://www.crgardencentre.com/sites/default/files/imagecache/product_full/veterans honor rose.jpg\n",
            "[!] Error:: URL can't contain control characters. '/sites/default/files/imagecache/product_full/veterans honor rose.jpg' (found at least ' ')\n",
            "\n",
            "\n",
            "[!!]Indexing page: 2\n",
            "\n",
            "[%] Indexed 35 Images on Page 2.\n",
            "\n",
            "===============================================\n",
            "\n",
            "[%] Downloading Image #29 from https://upload.wikimedia.org/wikipedia/commons/thumb/2/28/Rose_Kardinal_crop.jpg/1200px-Rose_Kardinal_crop.jpg\n",
            "[%] File Downloaded !\n",
            "\n",
            "[%] Downloading Image #30 from https://enablelc.org/wp-content/uploads/2017/01/BS-Yellow-rose.jpg\n",
            "[%] File Downloaded !\n",
            "\n",
            "\n",
            "\n",
            "[%] Done. Downloaded 30 images.\n",
            "\n",
            "===============================================\n",
            "\n",
            "time: 13.5 s (started: 2021-02-21 19:56:27 +00:00)\n"
          ],
          "name": "stdout"
        }
      ]
    },
    {
      "cell_type": "code",
      "metadata": {
        "colab": {
          "base_uri": "https://localhost:8080/"
        },
        "id": "DNGkM3mHK52y",
        "outputId": "4f261812-3f35-4f65-8628-f5ca129e8108"
      },
      "source": [
        "import os\r\n",
        "import matplotlib.pyplot as plt\r\n",
        "import numpy as np\r\n",
        "from skimage.io import imread\r\n",
        "from skimage.transform import resize\r\n",
        "\r\n",
        "target=[]\r\n",
        "images=[]\r\n",
        "flat_data=[]\r\n",
        "\r\n",
        "DATADIR='/content/images'\r\n",
        "CATEGORIES=['rose','sun']\r\n",
        "for category in CATEGORIES:\r\n",
        "  class_num=CATEGORIES.index(category)\r\n",
        "  path=os.path.join(DATADIR,category)\r\n",
        "  for img in os.listdir(path):\r\n",
        "    if img[-3:] in {'jpg', 'png'}:\r\n",
        "     image_array=imread(os.path.join(path,img))\r\n",
        "    \r\n",
        "     image_resized=resize(image_array,(150,150,3))\r\n",
        "    \r\n",
        "     flat_data.append(image_resized.flatten())\r\n",
        "     images.append(image_resized)\r\n",
        "     target.append(class_num)\r\n",
        "\r\n",
        "flat_data=np.array(flat_data)\r\n",
        "target=np.array(target)\r\n",
        "images=np.array(images)"
      ],
      "execution_count": 62,
      "outputs": [
        {
          "output_type": "stream",
          "text": [
            "time: 37.4 s (started: 2021-02-21 23:17:15 +00:00)\n"
          ],
          "name": "stdout"
        }
      ]
    },
    {
      "cell_type": "code",
      "metadata": {
        "colab": {
          "base_uri": "https://localhost:8080/"
        },
        "id": "B_JFWtYu42X0",
        "outputId": "56a18160-1b30-4e22-92c2-57e456f5716f"
      },
      "source": [
        "target"
      ],
      "execution_count": 63,
      "outputs": [
        {
          "output_type": "execute_result",
          "data": {
            "text/plain": [
              "array([0, 0, 0, 0, 0, 0, 0, 0, 0, 0, 0, 0, 0, 0, 0, 0, 0, 0, 0, 0, 0, 0,\n",
              "       0, 0, 0, 0, 0, 0, 0, 1, 1, 1, 1, 1, 1, 1, 1, 1, 1, 1, 1, 1, 1, 1,\n",
              "       1, 1, 1, 1, 1, 1, 1, 1, 1, 1])"
            ]
          },
          "metadata": {
            "tags": []
          },
          "execution_count": 63
        },
        {
          "output_type": "stream",
          "text": [
            "time: 9.69 ms (started: 2021-02-21 23:18:53 +00:00)\n"
          ],
          "name": "stdout"
        }
      ]
    },
    {
      "cell_type": "code",
      "metadata": {
        "colab": {
          "base_uri": "https://localhost:8080/",
          "height": 300
        },
        "id": "KmI4u0k645uZ",
        "outputId": "820d9833-2d11-4597-afc8-8d7fc373f4a3"
      },
      "source": [
        "unique,count=np.unique(target,return_counts=True)\r\n",
        "plt.bar(CATEGORIES,count)"
      ],
      "execution_count": 65,
      "outputs": [
        {
          "output_type": "execute_result",
          "data": {
            "text/plain": [
              "<BarContainer object of 2 artists>"
            ]
          },
          "metadata": {
            "tags": []
          },
          "execution_count": 65
        },
        {
          "output_type": "display_data",
          "data": {
            "image/png": "[encoded data removed]",
            "text/plain": [
              "<Figure size 432x288 with 1 Axes>"
            ]
          },
          "metadata": {
            "tags": [],
            "needs_background": "light"
          }
        },
        {
          "output_type": "stream",
          "text": [
            "time: 137 ms (started: 2021-02-21 23:20:46 +00:00)\n"
          ],
          "name": "stdout"
        }
      ]
    },
    {
      "cell_type": "code",
      "metadata": {
        "colab": {
          "base_uri": "https://localhost:8080/"
        },
        "id": "fUU_8GEL5dE0",
        "outputId": "ff9fb4f1-87b6-41a5-d20b-9fff7e2d1725"
      },
      "source": [
        "from sklearn.model_selection import train_test_split\r\n",
        "x_train,x_test,y_train,y_test=train_test_split(flat_data,target,test_size=0.3,random_state=109)"
      ],
      "execution_count": 66,
      "outputs": [
        {
          "output_type": "stream",
          "text": [
            "time: 13.1 ms (started: 2021-02-21 23:23:23 +00:00)\n"
          ],
          "name": "stdout"
        }
      ]
    },
    {
      "cell_type": "code",
      "metadata": {
        "colab": {
          "base_uri": "https://localhost:8080/"
        },
        "id": "XAGVfLkn56hE",
        "outputId": "871e6ab8-894e-4438-d350-ee47295320c1"
      },
      "source": [
        "from sklearn.model_selection import GridSearchCV\r\n",
        "from sklearn import svm\r\n",
        "param_grid=[{'C':[1,10,100,1000],'kernel':['linear']},\r\n",
        "            {'C':[1,10,100,1000],'gamma':[0.001,0.0001],'kernel':['rbf']}]\r\n",
        "svc=svm.SVC(probability=True)\r\n",
        "clf=GridSearchCV(svc,param_grid)\r\n",
        "clf.fit(x_train,y_train)\r\n"
      ],
      "execution_count": 67,
      "outputs": [
        {
          "output_type": "execute_result",
          "data": {
            "text/plain": [
              "GridSearchCV(cv=None, error_score=nan,\n",
              "             estimator=SVC(C=1.0, break_ties=False, cache_size=200,\n",
              "                           class_weight=None, coef0=0.0,\n",
              "                           decision_function_shape='ovr', degree=3,\n",
              "                           gamma='scale', kernel='rbf', max_iter=-1,\n",
              "                           probability=True, random_state=None, shrinking=True,\n",
              "                           tol=0.001, verbose=False),\n",
              "             iid='deprecated', n_jobs=None,\n",
              "             param_grid=[{'C': [1, 10, 100, 1000], 'kernel': ['linear']},\n",
              "                         {'C': [1, 10, 100, 1000], 'gamma': [0.001, 0.0001],\n",
              "                          'kernel': ['rbf']}],\n",
              "             pre_dispatch='2*n_jobs', refit=True, return_train_score=False,\n",
              "             scoring=None, verbose=0)"
            ]
          },
          "metadata": {
            "tags": []
          },
          "execution_count": 67
        },
        {
          "output_type": "stream",
          "text": [
            "time: 29.8 s (started: 2021-02-21 23:28:35 +00:00)\n"
          ],
          "name": "stdout"
        }
      ]
    },
    {
      "cell_type": "code",
      "metadata": {
        "colab": {
          "base_uri": "https://localhost:8080/"
        },
        "id": "Rhzj1uoc8Ivm",
        "outputId": "24da41bf-5e5a-41e8-bef4-ed2427496f22"
      },
      "source": [
        "y_pred=clf.predict(x_test)"
      ],
      "execution_count": 74,
      "outputs": [
        {
          "output_type": "stream",
          "text": [
            "time: 59.4 ms (started: 2021-02-21 23:33:40 +00:00)\n"
          ],
          "name": "stdout"
        }
      ]
    },
    {
      "cell_type": "code",
      "metadata": {
        "colab": {
          "base_uri": "https://localhost:8080/"
        },
        "id": "oducj15y7oxI",
        "outputId": "ecc97dc3-653f-4d52-deab-641983c95511"
      },
      "source": [
        "y_test"
      ],
      "execution_count": 68,
      "outputs": [
        {
          "output_type": "execute_result",
          "data": {
            "text/plain": [
              "array([1, 1, 1, 1, 1, 0, 0, 1, 0, 0, 0, 0, 0, 1, 1, 0, 1])"
            ]
          },
          "metadata": {
            "tags": []
          },
          "execution_count": 68
        },
        {
          "output_type": "stream",
          "text": [
            "time: 2.65 ms (started: 2021-02-21 23:31:03 +00:00)\n"
          ],
          "name": "stdout"
        }
      ]
    },
    {
      "cell_type": "code",
      "metadata": {
        "colab": {
          "base_uri": "https://localhost:8080/"
        },
        "id": "Fx54DH1f7tpY",
        "outputId": "f33132bd-f42f-4b6f-e68c-cde5485e16e8"
      },
      "source": [
        "from sklearn.metrics import accuracy_score,confusion_matrix"
      ],
      "execution_count": 70,
      "outputs": [
        {
          "output_type": "stream",
          "text": [
            "time: 1.1 ms (started: 2021-02-21 23:32:04 +00:00)\n"
          ],
          "name": "stdout"
        }
      ]
    },
    {
      "cell_type": "code",
      "metadata": {
        "colab": {
          "base_uri": "https://localhost:8080/"
        },
        "id": "aXPsa3ux7542",
        "outputId": "eac40a4f-b9bf-4cff-d52f-72e98f61d4e9"
      },
      "source": [
        "accuracy_score(y_pred,y_test)"
      ],
      "execution_count": 75,
      "outputs": [
        {
          "output_type": "execute_result",
          "data": {
            "text/plain": [
              "0.7647058823529411"
            ]
          },
          "metadata": {
            "tags": []
          },
          "execution_count": 75
        },
        {
          "output_type": "stream",
          "text": [
            "time: 6.01 ms (started: 2021-02-21 23:33:45 +00:00)\n"
          ],
          "name": "stdout"
        }
      ]
    },
    {
      "cell_type": "code",
      "metadata": {
        "colab": {
          "base_uri": "https://localhost:8080/"
        },
        "id": "clkZ1o7p8hat",
        "outputId": "1f195402-7522-4885-8d77-e544a9196281"
      },
      "source": [
        "confusion_matrix(y_pred,y_test)"
      ],
      "execution_count": 76,
      "outputs": [
        {
          "output_type": "execute_result",
          "data": {
            "text/plain": [
              "array([[6, 2],\n",
              "       [2, 7]])"
            ]
          },
          "metadata": {
            "tags": []
          },
          "execution_count": 76
        },
        {
          "output_type": "stream",
          "text": [
            "time: 5.47 ms (started: 2021-02-21 23:35:04 +00:00)\n"
          ],
          "name": "stdout"
        }
      ]
    },
    {
      "cell_type": "code",
      "metadata": {
        "colab": {
          "base_uri": "https://localhost:8080/"
        },
        "id": "5N1mbVan805v",
        "outputId": "ca2de8af-d9b5-450e-b776-8fe9f1290c82"
      },
      "source": [
        "import pickle\r\n",
        "pickle.dump(clf,open('img_model.p','wb'))"
      ],
      "execution_count": 79,
      "outputs": [
        {
          "output_type": "stream",
          "text": [
            "time: 25.2 ms (started: 2021-02-21 23:39:09 +00:00)\n"
          ],
          "name": "stdout"
        }
      ]
    },
    {
      "cell_type": "code",
      "metadata": {
        "colab": {
          "base_uri": "https://localhost:8080/"
        },
        "id": "QLucTcpO9hZA",
        "outputId": "3cc023c9-9848-4d3b-8220-c7b7194714d9"
      },
      "source": [
        "model=pickle.load(open('img_model.p','rb'))"
      ],
      "execution_count": 81,
      "outputs": [
        {
          "output_type": "stream",
          "text": [
            "time: 15.9 ms (started: 2021-02-21 23:40:22 +00:00)\n"
          ],
          "name": "stdout"
        }
      ]
    },
    {
      "cell_type": "code",
      "metadata": {
        "colab": {
          "base_uri": "https://localhost:8080/",
          "height": 340
        },
        "id": "Pr-LTLMd9zBd",
        "outputId": "2bedb23f-af84-4153-8207-9347b3eb8d64"
      },
      "source": [
        "flat_data=[]\r\n",
        "url=input('enter your URL')\r\n",
        "img=imread(url)\r\n",
        "image_resized=resize(img,(150,150,3))\r\n",
        "flat_data.append(image_resized.flatten())\r\n",
        "flat_data=np.array(flat_data)\r\n",
        "plt.imshow(image_resized)\r\n",
        "y_out=model.predict(flat_data)\r\n",
        "y_out=CATEGORIES[y_out[0]]\r\n",
        "print(f'predicted otput : {y_out}')\r\n"
      ],
      "execution_count": 86,
      "outputs": [
        {
          "output_type": "stream",
          "text": [
            "enter your URLhttps://upload.wikimedia.org/wikipedia/commons/thumb/b/b4/The_Sun_by_the_Atmospheric_Imaging_Assembly_of_NASA%27s_Solar_Dynamics_Observatory_-_20100819.jpg/220px-The_Sun_by_the_Atmospheric_Imaging_Assembly_of_NASA%27s_Solar_Dynamics_Observatory_-_20100819.jpg\n",
            "predicted otput : sun\n"
          ],
          "name": "stdout"
        },
        {
          "output_type": "display_data",
          "data": {
            "image/png": "[encoded data removed]",
            "text/plain": [
              "<Figure size 432x288 with 1 Axes>"
            ]
          },
          "metadata": {
            "tags": [],
            "needs_background": "light"
          }
        },
        {
          "output_type": "stream",
          "text": [
            "time: 3.43 s (started: 2021-02-21 23:51:46 +00:00)\n"
          ],
          "name": "stdout"
        }
      ]
    }
  ]
}